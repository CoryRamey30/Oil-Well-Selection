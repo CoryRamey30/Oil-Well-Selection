{
 "cells": [
  {
   "cell_type": "markdown",
   "metadata": {},
   "source": [
    "# OilyGiant mining company Well Selection"
   ]
  },
  {
   "cell_type": "markdown",
   "metadata": {},
   "source": [
    "OilyGiant has tasked us with finding the safest and most profitable region to add new wells. We will train 3 models to see which region has the highest profit, best reserves and lowest risk of loss. Given that OilyGiant will build 200 wells, we will be sure the take the top producing wells in our final analysis."
   ]
  },
  {
   "cell_type": "code",
   "execution_count": 1,
   "metadata": {
    "trusted": true
   },
   "outputs": [],
   "source": [
    "import pandas as pd\n",
    "import numpy as np\n",
    "import matplotlib.pyplot as plt\n",
    "import seaborn as sns\n",
    "\n",
    "from sklearn.model_selection import train_test_split\n",
    "from sklearn.linear_model import LinearRegression\n",
    "from sklearn.metrics import r2_score, mean_squared_error"
   ]
  },
  {
   "cell_type": "code",
   "execution_count": 2,
   "metadata": {
    "trusted": true
   },
   "outputs": [],
   "source": [
    "df_0 = pd.read_csv('C:/Users/cmram/Downloads/geo_data_0.csv')\n",
    "df_1 = pd.read_csv('C:/Users/cmram/Downloads/geo_data_1.csv')\n",
    "df_2 = pd.read_csv('C:/Users/cmram/Downloads/geo_data_2.csv')"
   ]
  },
  {
   "cell_type": "code",
   "execution_count": 3,
   "metadata": {
    "trusted": true
   },
   "outputs": [
    {
     "data": {
      "text/html": [
       "<div>\n",
       "<style scoped>\n",
       "    .dataframe tbody tr th:only-of-type {\n",
       "        vertical-align: middle;\n",
       "    }\n",
       "\n",
       "    .dataframe tbody tr th {\n",
       "        vertical-align: top;\n",
       "    }\n",
       "\n",
       "    .dataframe thead th {\n",
       "        text-align: right;\n",
       "    }\n",
       "</style>\n",
       "<table border=\"1\" class=\"dataframe\">\n",
       "  <thead>\n",
       "    <tr style=\"text-align: right;\">\n",
       "      <th></th>\n",
       "      <th>id</th>\n",
       "      <th>f0</th>\n",
       "      <th>f1</th>\n",
       "      <th>f2</th>\n",
       "      <th>product</th>\n",
       "    </tr>\n",
       "  </thead>\n",
       "  <tbody>\n",
       "    <tr>\n",
       "      <th>0</th>\n",
       "      <td>txEyH</td>\n",
       "      <td>0.705745</td>\n",
       "      <td>-0.497823</td>\n",
       "      <td>1.221170</td>\n",
       "      <td>105.280062</td>\n",
       "    </tr>\n",
       "    <tr>\n",
       "      <th>1</th>\n",
       "      <td>2acmU</td>\n",
       "      <td>1.334711</td>\n",
       "      <td>-0.340164</td>\n",
       "      <td>4.365080</td>\n",
       "      <td>73.037750</td>\n",
       "    </tr>\n",
       "    <tr>\n",
       "      <th>2</th>\n",
       "      <td>409Wp</td>\n",
       "      <td>1.022732</td>\n",
       "      <td>0.151990</td>\n",
       "      <td>1.419926</td>\n",
       "      <td>85.265647</td>\n",
       "    </tr>\n",
       "    <tr>\n",
       "      <th>3</th>\n",
       "      <td>iJLyR</td>\n",
       "      <td>-0.032172</td>\n",
       "      <td>0.139033</td>\n",
       "      <td>2.978566</td>\n",
       "      <td>168.620776</td>\n",
       "    </tr>\n",
       "    <tr>\n",
       "      <th>4</th>\n",
       "      <td>Xdl7t</td>\n",
       "      <td>1.988431</td>\n",
       "      <td>0.155413</td>\n",
       "      <td>4.751769</td>\n",
       "      <td>154.036647</td>\n",
       "    </tr>\n",
       "  </tbody>\n",
       "</table>\n",
       "</div>"
      ],
      "text/plain": [
       "      id        f0        f1        f2     product\n",
       "0  txEyH  0.705745 -0.497823  1.221170  105.280062\n",
       "1  2acmU  1.334711 -0.340164  4.365080   73.037750\n",
       "2  409Wp  1.022732  0.151990  1.419926   85.265647\n",
       "3  iJLyR -0.032172  0.139033  2.978566  168.620776\n",
       "4  Xdl7t  1.988431  0.155413  4.751769  154.036647"
      ]
     },
     "metadata": {},
     "output_type": "display_data"
    },
    {
     "data": {
      "text/html": [
       "<div>\n",
       "<style scoped>\n",
       "    .dataframe tbody tr th:only-of-type {\n",
       "        vertical-align: middle;\n",
       "    }\n",
       "\n",
       "    .dataframe tbody tr th {\n",
       "        vertical-align: top;\n",
       "    }\n",
       "\n",
       "    .dataframe thead th {\n",
       "        text-align: right;\n",
       "    }\n",
       "</style>\n",
       "<table border=\"1\" class=\"dataframe\">\n",
       "  <thead>\n",
       "    <tr style=\"text-align: right;\">\n",
       "      <th></th>\n",
       "      <th>id</th>\n",
       "      <th>f0</th>\n",
       "      <th>f1</th>\n",
       "      <th>f2</th>\n",
       "      <th>product</th>\n",
       "    </tr>\n",
       "  </thead>\n",
       "  <tbody>\n",
       "    <tr>\n",
       "      <th>0</th>\n",
       "      <td>kBEdx</td>\n",
       "      <td>-15.001348</td>\n",
       "      <td>-8.276000</td>\n",
       "      <td>-0.005876</td>\n",
       "      <td>3.179103</td>\n",
       "    </tr>\n",
       "    <tr>\n",
       "      <th>1</th>\n",
       "      <td>62mP7</td>\n",
       "      <td>14.272088</td>\n",
       "      <td>-3.475083</td>\n",
       "      <td>0.999183</td>\n",
       "      <td>26.953261</td>\n",
       "    </tr>\n",
       "    <tr>\n",
       "      <th>2</th>\n",
       "      <td>vyE1P</td>\n",
       "      <td>6.263187</td>\n",
       "      <td>-5.948386</td>\n",
       "      <td>5.001160</td>\n",
       "      <td>134.766305</td>\n",
       "    </tr>\n",
       "    <tr>\n",
       "      <th>3</th>\n",
       "      <td>KcrkZ</td>\n",
       "      <td>-13.081196</td>\n",
       "      <td>-11.506057</td>\n",
       "      <td>4.999415</td>\n",
       "      <td>137.945408</td>\n",
       "    </tr>\n",
       "    <tr>\n",
       "      <th>4</th>\n",
       "      <td>AHL4O</td>\n",
       "      <td>12.702195</td>\n",
       "      <td>-8.147433</td>\n",
       "      <td>5.004363</td>\n",
       "      <td>134.766305</td>\n",
       "    </tr>\n",
       "  </tbody>\n",
       "</table>\n",
       "</div>"
      ],
      "text/plain": [
       "      id         f0         f1        f2     product\n",
       "0  kBEdx -15.001348  -8.276000 -0.005876    3.179103\n",
       "1  62mP7  14.272088  -3.475083  0.999183   26.953261\n",
       "2  vyE1P   6.263187  -5.948386  5.001160  134.766305\n",
       "3  KcrkZ -13.081196 -11.506057  4.999415  137.945408\n",
       "4  AHL4O  12.702195  -8.147433  5.004363  134.766305"
      ]
     },
     "metadata": {},
     "output_type": "display_data"
    },
    {
     "data": {
      "text/html": [
       "<div>\n",
       "<style scoped>\n",
       "    .dataframe tbody tr th:only-of-type {\n",
       "        vertical-align: middle;\n",
       "    }\n",
       "\n",
       "    .dataframe tbody tr th {\n",
       "        vertical-align: top;\n",
       "    }\n",
       "\n",
       "    .dataframe thead th {\n",
       "        text-align: right;\n",
       "    }\n",
       "</style>\n",
       "<table border=\"1\" class=\"dataframe\">\n",
       "  <thead>\n",
       "    <tr style=\"text-align: right;\">\n",
       "      <th></th>\n",
       "      <th>id</th>\n",
       "      <th>f0</th>\n",
       "      <th>f1</th>\n",
       "      <th>f2</th>\n",
       "      <th>product</th>\n",
       "    </tr>\n",
       "  </thead>\n",
       "  <tbody>\n",
       "    <tr>\n",
       "      <th>0</th>\n",
       "      <td>fwXo0</td>\n",
       "      <td>-1.146987</td>\n",
       "      <td>0.963328</td>\n",
       "      <td>-0.828965</td>\n",
       "      <td>27.758673</td>\n",
       "    </tr>\n",
       "    <tr>\n",
       "      <th>1</th>\n",
       "      <td>WJtFt</td>\n",
       "      <td>0.262778</td>\n",
       "      <td>0.269839</td>\n",
       "      <td>-2.530187</td>\n",
       "      <td>56.069697</td>\n",
       "    </tr>\n",
       "    <tr>\n",
       "      <th>2</th>\n",
       "      <td>ovLUW</td>\n",
       "      <td>0.194587</td>\n",
       "      <td>0.289035</td>\n",
       "      <td>-5.586433</td>\n",
       "      <td>62.871910</td>\n",
       "    </tr>\n",
       "    <tr>\n",
       "      <th>3</th>\n",
       "      <td>q6cA6</td>\n",
       "      <td>2.236060</td>\n",
       "      <td>-0.553760</td>\n",
       "      <td>0.930038</td>\n",
       "      <td>114.572842</td>\n",
       "    </tr>\n",
       "    <tr>\n",
       "      <th>4</th>\n",
       "      <td>WPMUX</td>\n",
       "      <td>-0.515993</td>\n",
       "      <td>1.716266</td>\n",
       "      <td>5.899011</td>\n",
       "      <td>149.600746</td>\n",
       "    </tr>\n",
       "  </tbody>\n",
       "</table>\n",
       "</div>"
      ],
      "text/plain": [
       "      id        f0        f1        f2     product\n",
       "0  fwXo0 -1.146987  0.963328 -0.828965   27.758673\n",
       "1  WJtFt  0.262778  0.269839 -2.530187   56.069697\n",
       "2  ovLUW  0.194587  0.289035 -5.586433   62.871910\n",
       "3  q6cA6  2.236060 -0.553760  0.930038  114.572842\n",
       "4  WPMUX -0.515993  1.716266  5.899011  149.600746"
      ]
     },
     "metadata": {},
     "output_type": "display_data"
    }
   ],
   "source": [
    "display(df_0.head())\n",
    "display(df_1.head())\n",
    "display(df_2.head())"
   ]
  },
  {
   "cell_type": "markdown",
   "metadata": {},
   "source": [
    "Checking for duplicate rows"
   ]
  },
  {
   "cell_type": "code",
   "execution_count": 4,
   "metadata": {
    "scrolled": true,
    "trusted": true
   },
   "outputs": [
    {
     "name": "stdout",
     "output_type": "stream",
     "text": [
      "Number of duplicated rows in df_0: 10\n",
      "Number of duplicated rows in df_1: 4\n",
      "Number of duplicated rows in df_2: 4\n"
     ]
    }
   ],
   "source": [
    "num_duplicated_rows_0 = df_0['id'].duplicated().sum()\n",
    "num_duplicated_rows_1 = df_1['id'].duplicated().sum()\n",
    "num_duplicated_rows_2 = df_2['id'].duplicated().sum()\n",
    "\n",
    "\n",
    "print(f\"Number of duplicated rows in df_0: {num_duplicated_rows_0}\")\n",
    "print(f\"Number of duplicated rows in df_1: {num_duplicated_rows_1}\")\n",
    "print(f\"Number of duplicated rows in df_2: {num_duplicated_rows_2}\")"
   ]
  },
  {
   "cell_type": "code",
   "execution_count": 5,
   "metadata": {
    "trusted": true
   },
   "outputs": [],
   "source": [
    "avg0 = df_0['product'].mean()\n",
    "avg1 = df_1['product'].mean()\n",
    "avg2 = df_2['product'].mean()"
   ]
  },
  {
   "cell_type": "code",
   "execution_count": 6,
   "metadata": {
    "trusted": true
   },
   "outputs": [
    {
     "data": {
      "image/png": "[encoded data removed]",
      "text/plain": [
       "<Figure size 800x500 with 1 Axes>"
      ]
     },
     "metadata": {},
     "output_type": "display_data"
    }
   ],
   "source": [
    "averages = [avg0, avg1, avg2]\n",
    "labels = ['DataFrame 0', 'DataFrame 1', 'DataFrame 2']\n",
    "\n",
    "plt.figure(figsize=(8, 5))\n",
    "plt.bar(labels, averages, color=['blue', 'green', 'red'])\n",
    "plt.xlabel('DataFrames')\n",
    "plt.ylabel('Average of product')\n",
    "plt.title('Average of product in Different DataFrames')\n",
    "plt.show()"
   ]
  },
  {
   "cell_type": "markdown",
   "metadata": {},
   "source": [
    "Region 2 has the highest average \"product\" per well of the 3 regions"
   ]
  },
  {
   "cell_type": "code",
   "execution_count": 7,
   "metadata": {
    "trusted": true
   },
   "outputs": [
    {
     "data": {
      "image/png": "[encoded data removed]",
      "text/plain": [
       "<Figure size 1000x600 with 1 Axes>"
      ]
     },
     "metadata": {},
     "output_type": "display_data"
    }
   ],
   "source": [
    "combined_df = pd.DataFrame({\n",
    "    'DataFrame0': df_0['product'],\n",
    "    'DataFrame1': df_1['product'],\n",
    "    'DataFrame2': df_2['product']\n",
    "})\n",
    "\n",
    "plt.figure(figsize=(10, 6))\n",
    "combined_df.boxplot()\n",
    "plt.title('Boxplot for product across three DataFrames')\n",
    "plt.ylabel('Values')\n",
    "plt.show()"
   ]
  },
  {
   "cell_type": "markdown",
   "metadata": {},
   "source": [
    "Region 0 and 2 have very similar box and wisker plots with region 1 being very underwhelming"
   ]
  },
  {
   "cell_type": "code",
   "execution_count": 8,
   "metadata": {
    "trusted": true
   },
   "outputs": [
    {
     "name": "stdout",
     "output_type": "stream",
     "text": [
      "               f0        f1        f2   product\n",
      "f0       1.000000 -0.440723 -0.003153  0.143536\n",
      "f1      -0.440723  1.000000  0.001724 -0.192356\n",
      "f2      -0.003153  0.001724  1.000000  0.483663\n",
      "product  0.143536 -0.192356  0.483663  1.000000\n",
      "               f0        f1        f2   product\n",
      "f0       1.000000  0.182287 -0.001777 -0.030491\n",
      "f1       0.182287  1.000000 -0.002595 -0.010155\n",
      "f2      -0.001777 -0.002595  1.000000  0.999397\n",
      "product -0.030491 -0.010155  0.999397  1.000000\n",
      "               f0        f1        f2   product\n",
      "f0       1.000000  0.000528 -0.000448 -0.001987\n",
      "f1       0.000528  1.000000  0.000779 -0.001012\n",
      "f2      -0.000448  0.000779  1.000000  0.445871\n",
      "product -0.001987 -0.001012  0.445871  1.000000\n"
     ]
    }
   ],
   "source": [
    "correlation_matrix_0 = df_0.select_dtypes(include='number').corr()\n",
    "correlation_matrix_1 = df_1.select_dtypes(include='number').corr()\n",
    "correlation_matrix_2 = df_2.select_dtypes(include='number').corr()\n",
    "\n",
    "print(correlation_matrix_0)\n",
    "print(correlation_matrix_1)\n",
    "print(correlation_matrix_2)\n"
   ]
  },
  {
   "cell_type": "markdown",
   "metadata": {},
   "source": [
    "I believe that because we were not giving the information on what f0, f1, and f2 are. We can see if they have a positive or negative correlation but we don't understand what is being compared."
   ]
  },
  {
   "cell_type": "markdown",
   "metadata": {},
   "source": [
    "# Training and testing my models"
   ]
  },
  {
   "cell_type": "code",
   "execution_count": 9,
   "metadata": {
    "trusted": true
   },
   "outputs": [
    {
     "name": "stdout",
     "output_type": "stream",
     "text": [
      "(75000, 3)\n",
      "(25000, 3)\n"
     ]
    }
   ],
   "source": [
    "features_0 = df_0.drop(['id', 'product'], axis=1)\n",
    "features_1 = df_1.drop(['id', 'product'], axis=1)\n",
    "features_2 = df_2.drop(['id', 'product'], axis=1)\n",
    "\n",
    "target_0 = df_0['product']\n",
    "target_1 = df_1['product']\n",
    "target_2 = df_2['product']\n",
    "seed = 12345\n",
    "\n",
    "features_train_0, features_valid_0, target_train_0, target_valid_0 = train_test_split(features_0, target_0, test_size = 0.25, random_state = seed)\n",
    "\n",
    "features_train_1, features_valid_1, target_train_1, target_valid_1 = train_test_split(features_1, target_1, test_size = 0.25, random_state = seed)\n",
    "\n",
    "features_train_2, features_valid_2, target_train_2, target_valid_2 = train_test_split(features_2, target_2, test_size = 0.25, random_state = seed)\n",
    "\n",
    "print(features_train_0.shape)\n",
    "print(features_valid_0.shape)"
   ]
  },
  {
   "cell_type": "code",
   "execution_count": 10,
   "metadata": {
    "trusted": true
   },
   "outputs": [],
   "source": [
    "model_0 = LinearRegression().fit(features_train_0, target_train_0)\n",
    "model_1 = LinearRegression().fit(features_train_1, target_train_1)\n",
    "model_2 = LinearRegression().fit(features_train_2, target_train_2)\n",
    "\n",
    "prediction_valid_0 = model_0.predict(features_valid_0)\n",
    "prediction_valid_1 = model_1.predict(features_valid_1)\n",
    "prediction_valid_2 = model_2.predict(features_valid_2)\n",
    "\n",
    "predictions = [prediction_valid_0, prediction_valid_1, prediction_valid_2]\n",
    "actuals = [target_valid_0.values, target_valid_1.values, target_valid_2.values]"
   ]
  },
  {
   "cell_type": "code",
   "execution_count": 11,
   "metadata": {
    "trusted": true
   },
   "outputs": [
    {
     "name": "stdout",
     "output_type": "stream",
     "text": [
      "Region 0: r2 = 0.27994321524487786 RMSE = 37.5794217150813 Average Reserves =  92.59256778438035\n",
      "Region 1: r2 = 0.9996233978805127 RMSE = 0.8930992867756167 Average Reserves =  68.728546895446\n",
      "Region 2: r2 = 0.20524758386040443 RMSE = 40.02970873393434 Average Reserves =  94.96504596800489\n"
     ]
    }
   ],
   "source": [
    "r2_0 = r2_score(target_valid_0, prediction_valid_0)\n",
    "rmse_0 = mean_squared_error(target_valid_0, prediction_valid_0) ** 0.5 \n",
    "average_volume_0 = prediction_valid_0.mean()\n",
    "\n",
    "r2_1 = r2_score(target_valid_1, prediction_valid_1)\n",
    "rmse_1 = mean_squared_error(target_valid_1, prediction_valid_1) ** 0.5\n",
    "average_volume_1 = prediction_valid_1.mean()\n",
    "\n",
    "r2_2 = r2_score(target_valid_2, prediction_valid_2)\n",
    "rmse_2 = mean_squared_error(target_valid_2, prediction_valid_2) ** 0.5\n",
    "average_volume_2 = prediction_valid_2.mean()\n",
    "\n",
    "print(\"Region 0:\", 'r2 =', r2_0, 'RMSE =', rmse_0, 'Average Reserves = ', average_volume_0)\n",
    "print(\"Region 1:\", 'r2 =', r2_1, 'RMSE =', rmse_1, 'Average Reserves = ', average_volume_1)\n",
    "print(\"Region 2:\", 'r2 =', r2_2, 'RMSE =', rmse_2, 'Average Reserves = ', average_volume_2)"
   ]
  },
  {
   "cell_type": "markdown",
   "metadata": {},
   "source": [
    "Region 1 has an extremely high r2 and RMSE score meaning the predictions from this model are very accurate. Region 0 has a higher r2 and lover RMSE than region 2 so it is hard to tell which of those models are more predictable."
   ]
  },
  {
   "cell_type": "markdown",
   "metadata": {},
   "source": [
    "# Preparing Profit Calculation"
   ]
  },
  {
   "cell_type": "code",
   "execution_count": 12,
   "metadata": {
    "trusted": true
   },
   "outputs": [
    {
     "name": "stdout",
     "output_type": "stream",
     "text": [
      "Volume Needed for Profitability: 111.11111111111111\n"
     ]
    }
   ],
   "source": [
    "total_wells = 200\n",
    "budget = 100000000\n",
    "revenue_per_barrel = 4.5\n",
    "\n",
    "cost_per_well = budget / total_wells\n",
    "volume_needed = cost_per_well / (revenue_per_barrel * 1000)\n",
    "\n",
    "print(f\"Volume Needed for Profitability: {volume_needed}\")"
   ]
  },
  {
   "cell_type": "markdown",
   "metadata": {},
   "source": [
    "Above we see that we need 111 units to be profitable. Model 2 has a very low RMSE meaning our predictions are very close to the actual, but we see the average volume on that model is only 69 units so most likely that model will not be our most profitable. The other 2 model have a higher RMSE but also an average volume closer to the needed amount."
   ]
  },
  {
   "cell_type": "code",
   "execution_count": 13,
   "metadata": {
    "trusted": true
   },
   "outputs": [
    {
     "name": "stdout",
     "output_type": "stream",
     "text": [
      "Region 0:\n",
      "Break-even Volume: 111.11111111111111 thousand barrels\n",
      "Actual Average Volume: 92.07859674082927 thousand barrels\n",
      "The actual average volume in Region 0 is not sufficient for break-even.\n",
      "\n",
      "Region 1:\n",
      "Break-even Volume: 111.11111111111111 thousand barrels\n",
      "Actual Average Volume: 68.72313602435997 thousand barrels\n",
      "The actual average volume in Region 1 is not sufficient for break-even.\n",
      "\n",
      "Region 2:\n",
      "Break-even Volume: 111.11111111111111 thousand barrels\n",
      "Actual Average Volume: 94.88423280885438 thousand barrels\n",
      "The actual average volume in Region 2 is not sufficient for break-even.\n",
      "\n"
     ]
    }
   ],
   "source": [
    "def break_even_analysis(actuals, budget, revenue_per_barrel):\n",
    "\n",
    "    for i, actual in enumerate(actuals):\n",
    "        avg_volume = np.mean(actual)\n",
    "        print(f\"Region {i}:\")\n",
    "        print(f\"Break-even Volume: {volume_needed} thousand barrels\")\n",
    "        print(f\"Actual Average Volume: {avg_volume} thousand barrels\")\n",
    "\n",
    "        if avg_volume > volume_needed:\n",
    "            print(f\"The actual average volume in Region {i} is sufficient for break-even.\\n\")\n",
    "        else:\n",
    "            print(f\"The actual average volume in Region {i} is not sufficient for break-even.\\n\")\n",
    "\n",
    "break_even_analysis(actuals, budget, revenue_per_barrel)"
   ]
  },
  {
   "cell_type": "markdown",
   "metadata": {},
   "source": [
    "This shows that if wells are selected at random it is very unlikely for any of the regions to be profitable."
   ]
  },
  {
   "cell_type": "markdown",
   "metadata": {},
   "source": [
    "# Calculating Profit "
   ]
  },
  {
   "cell_type": "code",
   "execution_count": 14,
   "metadata": {
    "trusted": true
   },
   "outputs": [],
   "source": [
    "def calculate_profit(predictions, actual, budget, revenue_per_barrel, top_n=200):\n",
    "    # Sort predictions and get indices of the top wells\n",
    "    indices = np.argsort(predictions)[-top_n:]\n",
    "    \n",
    "    # Sum the reserves for the top wells\n",
    "    selected_reserves = actual[indices].sum()\n",
    "    \n",
    "    # Calculate revenue and profit\n",
    "    revenue = selected_reserves * revenue_per_barrel * 1000\n",
    "    profit = revenue - budget\n",
    "    \n",
    "    return profit, selected_reserves"
   ]
  },
  {
   "cell_type": "code",
   "execution_count": 15,
   "metadata": {
    "trusted": true
   },
   "outputs": [
    {
     "name": "stdout",
     "output_type": "stream",
     "text": [
      "Region 0: Profit: $33208260.431398526\n",
      "Region 0: Total Reserves: 29601.83565142189 thousand barrels\n",
      "Region 1: Profit: $24150866.966815114\n",
      "Region 1: Total Reserves: 27589.081548181137 thousand barrels\n",
      "Region 2: Profit: $27103499.635998324\n",
      "Region 2: Total Reserves: 28245.22214133296 thousand barrels\n",
      "\n",
      "Suggested Region for Development: Region 0, with an expected profit of $33208260.431398526\n"
     ]
    }
   ],
   "source": [
    "def evaluate_regions(predictions_list, actuals_list, budget, revenue_per_barrel):\n",
    "    best_region = None\n",
    "    highest_profit = float('-inf')\n",
    "\n",
    "    for i, (predictions, actual) in enumerate(zip(predictions_list, actuals_list)):\n",
    "        profit, reserves = calculate_profit(predictions, actual, budget, revenue_per_barrel)\n",
    "        print(f\"Region {i}: Profit: ${profit}\")\n",
    "        print(f\"Region {i}: Total Reserves: {reserves} thousand barrels\")\n",
    "        \n",
    "        if profit > highest_profit:\n",
    "            highest_profit = profit\n",
    "            best_region = i\n",
    "\n",
    "    print(f\"\\nSuggested Region for Development: Region {best_region}, with an expected profit of ${highest_profit}\")\n",
    "\n",
    "evaluate_regions(predictions, actuals, budget, revenue_per_barrel)"
   ]
  },
  {
   "cell_type": "markdown",
   "metadata": {},
   "source": [
    "Region 0 is the most profitable at 33.6 million and also has the highest total reserves of the 3 regions. Combining profitability with acceptable accuracy makes Region 0 the best choice for development."
   ]
  },
  {
   "cell_type": "markdown",
   "metadata": {},
   "source": [
    "# Risk and Profit"
   ]
  },
  {
   "cell_type": "code",
   "execution_count": 16,
   "metadata": {
    "trusted": true
   },
   "outputs": [
    {
     "name": "stdout",
     "output_type": "stream",
     "text": [
      "Region 0:\n",
      "Average Profit: $3816285.4216458495\n",
      "95% Confidence Interval: [-974513.11622914 8785099.43314428]\n",
      "Risk of Loss: 7.3%\n",
      "\n",
      "Region 1:\n",
      "Average Profit: $4517872.162083975\n",
      "95% Confidence Interval: [ 674783.94112124 8493847.21657942]\n",
      "Risk of Loss: 0.7000000000000001%\n",
      "\n",
      "Region 2:\n",
      "Average Profit: $3903056.2956554582\n",
      "95% Confidence Interval: [-1287998.72170396  9178274.32096762]\n",
      "Risk of Loss: 7.7%\n",
      "\n"
     ]
    }
   ],
   "source": [
    "def bootstrap_profit(predictions, actual, budget, revenue_per_barrel, n_samples=1000, top_n=200):\n",
    "    profits = []\n",
    "\n",
    "    np.random.seed(42)\n",
    "\n",
    "    for _ in range(n_samples):\n",
    "        sample_indices = np.random.choice(len(predictions), 500, replace=True)\n",
    "        sample_predictions = predictions[sample_indices]\n",
    "        sample_actual = actual[sample_indices]\n",
    "\n",
    "        profit, _ = calculate_profit(sample_predictions, sample_actual, budget, revenue_per_barrel, top_n)\n",
    "        profits.append(profit)\n",
    "\n",
    "    return np.array(profits)\n",
    "\n",
    "def analyze_bootstrap(profits):\n",
    "    \n",
    "    avg_profit = np.mean(profits)\n",
    "\n",
    "    confidence_interval = np.percentile(profits, [2.5, 97.5])\n",
    "\n",
    "    risk_of_loss = np.mean(profits < 0) * 100\n",
    "\n",
    "    return avg_profit, confidence_interval, risk_of_loss\n",
    "\n",
    "for i, (predictions, actual) in enumerate(zip(predictions, actuals)):\n",
    "    profits = bootstrap_profit(predictions, actual, budget, revenue_per_barrel)\n",
    "    avg_profit, confidence_interval, risk_of_loss = analyze_bootstrap(profits)\n",
    "\n",
    "    print(f\"Region {i}:\")\n",
    "    print(f\"Average Profit: ${avg_profit}\")\n",
    "    print(f\"95% Confidence Interval: {confidence_interval}\")\n",
    "    print(f\"Risk of Loss: {risk_of_loss}%\\n\")"
   ]
  },
  {
   "cell_type": "markdown",
   "metadata": {},
   "source": [
    "# Final Thoughts"
   ]
  },
  {
   "cell_type": "markdown",
   "metadata": {},
   "source": [
    "We have looked at all three regions and region 1 has the highest average profit and confidence interval. All 3 regions have the possibility of being profitable but region 2 have the lowest risk of loss. When we tested our break even analysis, we would have assumed none of the regions would be profitable but that is why we tested bootstrap analysis with only the top 200 wells. Region 0 had the highest Total Reserves equaling 29601.8 but that doesn't mean the top 200 would guarantee a profitable region. Region 1 has the only 95% confidence interval that is always profitable. All of the results lead to Region 1 being our recommendation to OilyGiant for well production."
   ]
  }
 ],
 "metadata": {
  "ExecuteTimeLog": [
   {
    "duration": 332,
    "start_time": "2025-02-11T01:24:44.706Z"
   },
   {
    "duration": 515,
    "start_time": "2025-02-11T02:19:29.933Z"
   },
   {
    "duration": 322,
    "start_time": "2025-02-11T02:20:01.524Z"
   },
   {
    "duration": 13,
    "start_time": "2025-02-11T02:20:47.061Z"
   },
   {
    "duration": 17,
    "start_time": "2025-02-11T02:21:30.033Z"
   },
   {
    "duration": 15,
    "start_time": "2025-02-11T02:32:08.309Z"
   },
   {
    "duration": 9,
    "start_time": "2025-02-11T02:32:19.025Z"
   },
   {
    "duration": 35,
    "start_time": "2025-02-11T02:32:36.817Z"
   },
   {
    "duration": 11,
    "start_time": "2025-02-11T02:32:55.913Z"
   },
   {
    "duration": 17,
    "start_time": "2025-02-11T02:38:48.252Z"
   },
   {
    "duration": 93,
    "start_time": "2025-02-11T02:38:50.767Z"
   },
   {
    "duration": 23,
    "start_time": "2025-02-11T02:39:05.410Z"
   },
   {
    "duration": 277,
    "start_time": "2025-02-11T02:39:17.772Z"
   },
   {
    "duration": 235,
    "start_time": "2025-02-11T02:39:18.051Z"
   },
   {
    "duration": 27,
    "start_time": "2025-02-11T02:39:18.288Z"
   },
   {
    "duration": 30,
    "start_time": "2025-02-11T02:39:18.317Z"
   },
   {
    "duration": 108,
    "start_time": "2025-02-11T02:39:18.349Z"
   },
   {
    "duration": 28,
    "start_time": "2025-02-11T02:39:40.219Z"
   },
   {
    "duration": 366,
    "start_time": "2025-02-11T02:39:45.715Z"
   },
   {
    "duration": 226,
    "start_time": "2025-02-11T02:39:46.084Z"
   },
   {
    "duration": 21,
    "start_time": "2025-02-11T02:39:46.311Z"
   },
   {
    "duration": 25,
    "start_time": "2025-02-11T02:39:46.334Z"
   },
   {
    "duration": 133,
    "start_time": "2025-02-11T02:39:46.361Z"
   },
   {
    "duration": 25,
    "start_time": "2025-02-11T02:39:46.497Z"
   },
   {
    "duration": 394,
    "start_time": "2025-02-11T02:40:24.599Z"
   },
   {
    "duration": 50,
    "start_time": "2025-02-11T02:40:40.715Z"
   },
   {
    "duration": 24,
    "start_time": "2025-02-11T02:40:47.840Z"
   },
   {
    "duration": 7,
    "start_time": "2025-02-11T02:41:51.335Z"
   },
   {
    "duration": 8,
    "start_time": "2025-02-11T02:42:02.212Z"
   },
   {
    "duration": 7,
    "start_time": "2025-02-11T02:42:07.327Z"
   },
   {
    "duration": 280,
    "start_time": "2025-02-11T02:42:14.293Z"
   },
   {
    "duration": 236,
    "start_time": "2025-02-11T02:42:14.575Z"
   },
   {
    "duration": 27,
    "start_time": "2025-02-11T02:42:14.813Z"
   },
   {
    "duration": 27,
    "start_time": "2025-02-11T02:42:14.842Z"
   },
   {
    "duration": 58,
    "start_time": "2025-02-11T02:42:14.872Z"
   },
   {
    "duration": 20,
    "start_time": "2025-02-11T02:42:14.932Z"
   },
   {
    "duration": 21,
    "start_time": "2025-02-11T02:45:13.862Z"
   },
   {
    "duration": 18,
    "start_time": "2025-02-11T02:45:17.099Z"
   },
   {
    "duration": 19,
    "start_time": "2025-02-11T02:45:49.572Z"
   },
   {
    "duration": 20,
    "start_time": "2025-02-11T02:45:52.383Z"
   },
   {
    "duration": 273,
    "start_time": "2025-02-11T02:45:55.387Z"
   },
   {
    "duration": 220,
    "start_time": "2025-02-11T02:45:55.662Z"
   },
   {
    "duration": 25,
    "start_time": "2025-02-11T02:45:55.883Z"
   },
   {
    "duration": 31,
    "start_time": "2025-02-11T02:45:55.910Z"
   },
   {
    "duration": 62,
    "start_time": "2025-02-11T02:45:55.944Z"
   },
   {
    "duration": 20,
    "start_time": "2025-02-11T02:45:56.008Z"
   },
   {
    "duration": 26,
    "start_time": "2025-02-11T02:45:56.030Z"
   },
   {
    "duration": 22,
    "start_time": "2025-02-11T02:46:24.879Z"
   },
   {
    "duration": 193,
    "start_time": "2025-02-11T02:53:52.622Z"
   },
   {
    "duration": 308,
    "start_time": "2025-02-11T02:55:02.908Z"
   },
   {
    "duration": 500,
    "start_time": "2025-02-11T02:55:03.221Z"
   },
   {
    "duration": 236,
    "start_time": "2025-02-11T02:55:03.723Z"
   },
   {
    "duration": 22,
    "start_time": "2025-02-11T02:55:03.960Z"
   },
   {
    "duration": 31,
    "start_time": "2025-02-11T02:55:03.985Z"
   },
   {
    "duration": 45,
    "start_time": "2025-02-11T02:55:04.018Z"
   },
   {
    "duration": 17,
    "start_time": "2025-02-11T02:55:04.065Z"
   },
   {
    "duration": 42,
    "start_time": "2025-02-11T02:55:04.084Z"
   },
   {
    "duration": 31,
    "start_time": "2025-02-11T02:55:04.127Z"
   },
   {
    "duration": 218,
    "start_time": "2025-02-11T02:56:43.015Z"
   },
   {
    "duration": 307,
    "start_time": "2025-02-11T02:57:05.750Z"
   },
   {
    "duration": 495,
    "start_time": "2025-02-11T02:57:06.059Z"
   },
   {
    "duration": 219,
    "start_time": "2025-02-11T02:57:06.556Z"
   },
   {
    "duration": 28,
    "start_time": "2025-02-11T02:57:06.777Z"
   },
   {
    "duration": 28,
    "start_time": "2025-02-11T02:57:06.809Z"
   },
   {
    "duration": 46,
    "start_time": "2025-02-11T02:57:06.839Z"
   },
   {
    "duration": 34,
    "start_time": "2025-02-11T02:57:06.886Z"
   },
   {
    "duration": 23,
    "start_time": "2025-02-11T02:57:06.922Z"
   },
   {
    "duration": 27,
    "start_time": "2025-02-11T02:57:06.947Z"
   },
   {
    "duration": 39,
    "start_time": "2025-02-11T02:57:06.976Z"
   },
   {
    "duration": 6,
    "start_time": "2025-02-11T02:58:54.342Z"
   },
   {
    "duration": 214,
    "start_time": "2025-02-11T03:00:06.916Z"
   },
   {
    "duration": 2,
    "start_time": "2025-02-11T03:02:27.463Z"
   },
   {
    "duration": 18,
    "start_time": "2025-02-11T03:02:31.154Z"
   },
   {
    "duration": 2,
    "start_time": "2025-02-11T03:02:48.363Z"
   },
   {
    "duration": 18,
    "start_time": "2025-02-11T03:02:51.416Z"
   },
   {
    "duration": 14,
    "start_time": "2025-02-11T03:03:03.128Z"
   },
   {
    "duration": 2,
    "start_time": "2025-02-11T03:03:27.959Z"
   },
   {
    "duration": 10,
    "start_time": "2025-02-11T03:03:31.414Z"
   },
   {
    "duration": 15,
    "start_time": "2025-02-11T03:06:03.820Z"
   },
   {
    "duration": 323,
    "start_time": "2025-02-11T03:08:24.232Z"
   },
   {
    "duration": 453,
    "start_time": "2025-02-11T03:08:24.557Z"
   },
   {
    "duration": 221,
    "start_time": "2025-02-11T03:08:25.011Z"
   },
   {
    "duration": 20,
    "start_time": "2025-02-11T03:08:25.236Z"
   },
   {
    "duration": 25,
    "start_time": "2025-02-11T03:08:25.258Z"
   },
   {
    "duration": 56,
    "start_time": "2025-02-11T03:08:25.285Z"
   },
   {
    "duration": 19,
    "start_time": "2025-02-11T03:08:25.343Z"
   },
   {
    "duration": 47,
    "start_time": "2025-02-11T03:08:25.363Z"
   },
   {
    "duration": 32,
    "start_time": "2025-02-11T03:08:25.412Z"
   },
   {
    "duration": 19,
    "start_time": "2025-02-11T03:08:25.447Z"
   },
   {
    "duration": 8,
    "start_time": "2025-02-11T03:08:25.504Z"
   },
   {
    "duration": 301,
    "start_time": "2025-02-12T00:48:50.924Z"
   },
   {
    "duration": 508,
    "start_time": "2025-02-12T00:48:51.228Z"
   },
   {
    "duration": 305,
    "start_time": "2025-02-12T00:48:51.738Z"
   },
   {
    "duration": 21,
    "start_time": "2025-02-12T00:48:52.044Z"
   },
   {
    "duration": 23,
    "start_time": "2025-02-12T00:48:52.068Z"
   },
   {
    "duration": 70,
    "start_time": "2025-02-12T00:48:52.093Z"
   },
   {
    "duration": 20,
    "start_time": "2025-02-12T00:48:52.165Z"
   },
   {
    "duration": 23,
    "start_time": "2025-02-12T00:48:52.187Z"
   },
   {
    "duration": 45,
    "start_time": "2025-02-12T00:48:52.211Z"
   },
   {
    "duration": 25,
    "start_time": "2025-02-12T00:48:52.258Z"
   },
   {
    "duration": 49,
    "start_time": "2025-02-12T00:48:52.285Z"
   },
   {
    "duration": 336,
    "start_time": "2025-02-12T00:54:47.654Z"
   },
   {
    "duration": 485,
    "start_time": "2025-02-12T00:54:47.992Z"
   },
   {
    "duration": 221,
    "start_time": "2025-02-12T00:54:48.479Z"
   },
   {
    "duration": 21,
    "start_time": "2025-02-12T00:54:48.701Z"
   },
   {
    "duration": 23,
    "start_time": "2025-02-12T00:54:48.731Z"
   },
   {
    "duration": 42,
    "start_time": "2025-02-12T00:54:48.756Z"
   },
   {
    "duration": 34,
    "start_time": "2025-02-12T00:54:48.800Z"
   },
   {
    "duration": 31,
    "start_time": "2025-02-12T00:54:48.836Z"
   },
   {
    "duration": 22,
    "start_time": "2025-02-12T00:54:48.869Z"
   },
   {
    "duration": 7,
    "start_time": "2025-02-12T00:54:48.932Z"
   },
   {
    "duration": 4,
    "start_time": "2025-02-12T01:22:11.970Z"
   },
   {
    "duration": 5,
    "start_time": "2025-02-12T01:23:43.178Z"
   },
   {
    "duration": 2,
    "start_time": "2025-02-12T01:25:57.956Z"
   },
   {
    "duration": 212,
    "start_time": "2025-02-12T01:26:00.734Z"
   },
   {
    "duration": 15,
    "start_time": "2025-02-12T01:28:02.798Z"
   },
   {
    "duration": 9,
    "start_time": "2025-02-12T01:28:17.791Z"
   },
   {
    "duration": 17,
    "start_time": "2025-02-12T01:43:25.110Z"
   },
   {
    "duration": 21,
    "start_time": "2025-02-12T01:44:09.180Z"
   },
   {
    "duration": 6543,
    "start_time": "2025-02-12T01:44:36.365Z"
   },
   {
    "duration": 6,
    "start_time": "2025-02-12T01:45:10.150Z"
   },
   {
    "duration": 6446,
    "start_time": "2025-02-12T01:48:03.797Z"
   },
   {
    "duration": 3,
    "start_time": "2025-02-12T01:49:19.244Z"
   },
   {
    "duration": 9,
    "start_time": "2025-02-12T01:49:22.793Z"
   },
   {
    "duration": 319,
    "start_time": "2025-02-12T01:49:28.127Z"
   },
   {
    "duration": 503,
    "start_time": "2025-02-12T01:49:28.449Z"
   },
   {
    "duration": 221,
    "start_time": "2025-02-12T01:49:28.954Z"
   },
   {
    "duration": 22,
    "start_time": "2025-02-12T01:49:29.177Z"
   },
   {
    "duration": 38,
    "start_time": "2025-02-12T01:49:29.201Z"
   },
   {
    "duration": 43,
    "start_time": "2025-02-12T01:49:29.240Z"
   },
   {
    "duration": 19,
    "start_time": "2025-02-12T01:49:29.285Z"
   },
   {
    "duration": 48,
    "start_time": "2025-02-12T01:49:29.305Z"
   },
   {
    "duration": 21,
    "start_time": "2025-02-12T01:49:29.355Z"
   },
   {
    "duration": 53,
    "start_time": "2025-02-12T01:49:29.378Z"
   },
   {
    "duration": 5,
    "start_time": "2025-02-12T01:49:29.433Z"
   },
   {
    "duration": 303,
    "start_time": "2025-02-12T01:49:29.440Z"
   },
   {
    "duration": 0,
    "start_time": "2025-02-12T01:49:29.745Z"
   },
   {
    "duration": 0,
    "start_time": "2025-02-12T01:49:29.746Z"
   },
   {
    "duration": 6585,
    "start_time": "2025-02-12T01:49:49.780Z"
   },
   {
    "duration": 6441,
    "start_time": "2025-02-12T01:50:20.546Z"
   },
   {
    "duration": 16,
    "start_time": "2025-02-12T01:52:14.985Z"
   },
   {
    "duration": 303,
    "start_time": "2025-02-12T02:01:55.731Z"
   },
   {
    "duration": 500,
    "start_time": "2025-02-12T02:01:56.037Z"
   },
   {
    "duration": 226,
    "start_time": "2025-02-12T02:01:56.539Z"
   },
   {
    "duration": 21,
    "start_time": "2025-02-12T02:01:56.767Z"
   },
   {
    "duration": 22,
    "start_time": "2025-02-12T02:01:56.791Z"
   },
   {
    "duration": 58,
    "start_time": "2025-02-12T02:01:56.814Z"
   },
   {
    "duration": 27,
    "start_time": "2025-02-12T02:01:56.874Z"
   },
   {
    "duration": 46,
    "start_time": "2025-02-12T02:01:56.904Z"
   },
   {
    "duration": 18,
    "start_time": "2025-02-12T02:01:56.952Z"
   },
   {
    "duration": 59,
    "start_time": "2025-02-12T02:01:56.974Z"
   },
   {
    "duration": 4,
    "start_time": "2025-02-12T02:01:57.034Z"
   },
   {
    "duration": 297,
    "start_time": "2025-02-12T02:01:57.040Z"
   },
   {
    "duration": 0,
    "start_time": "2025-02-12T02:01:57.338Z"
   },
   {
    "duration": 0,
    "start_time": "2025-02-12T02:01:57.340Z"
   },
   {
    "duration": 0,
    "start_time": "2025-02-12T02:01:57.342Z"
   },
   {
    "duration": 19,
    "start_time": "2025-02-12T02:02:10.967Z"
   },
   {
    "duration": 16,
    "start_time": "2025-02-12T02:02:23.043Z"
   },
   {
    "duration": 82,
    "start_time": "2025-02-12T02:03:03.493Z"
   },
   {
    "duration": 9,
    "start_time": "2025-02-12T02:03:46.479Z"
   },
   {
    "duration": 10,
    "start_time": "2025-02-12T02:03:57.451Z"
   },
   {
    "duration": 35,
    "start_time": "2025-02-12T02:04:26.204Z"
   },
   {
    "duration": 8,
    "start_time": "2025-02-12T02:04:31.689Z"
   },
   {
    "duration": 305,
    "start_time": "2025-02-12T02:04:45.433Z"
   },
   {
    "duration": 505,
    "start_time": "2025-02-12T02:04:45.740Z"
   },
   {
    "duration": 224,
    "start_time": "2025-02-12T02:04:46.247Z"
   },
   {
    "duration": 22,
    "start_time": "2025-02-12T02:04:46.472Z"
   },
   {
    "duration": 37,
    "start_time": "2025-02-12T02:04:46.497Z"
   },
   {
    "duration": 45,
    "start_time": "2025-02-12T02:04:46.535Z"
   },
   {
    "duration": 19,
    "start_time": "2025-02-12T02:04:46.581Z"
   },
   {
    "duration": 51,
    "start_time": "2025-02-12T02:04:46.602Z"
   },
   {
    "duration": 21,
    "start_time": "2025-02-12T02:04:46.654Z"
   },
   {
    "duration": 57,
    "start_time": "2025-02-12T02:04:46.676Z"
   },
   {
    "duration": 3,
    "start_time": "2025-02-12T02:04:46.735Z"
   },
   {
    "duration": 291,
    "start_time": "2025-02-12T02:04:46.740Z"
   },
   {
    "duration": 0,
    "start_time": "2025-02-12T02:04:47.033Z"
   },
   {
    "duration": 0,
    "start_time": "2025-02-12T02:04:47.035Z"
   },
   {
    "duration": 0,
    "start_time": "2025-02-12T02:04:47.036Z"
   },
   {
    "duration": 3,
    "start_time": "2025-02-12T02:06:00.467Z"
   },
   {
    "duration": 9,
    "start_time": "2025-02-12T02:06:01.838Z"
   },
   {
    "duration": 9,
    "start_time": "2025-02-12T02:06:08.445Z"
   },
   {
    "duration": 6457,
    "start_time": "2025-02-12T02:06:12.123Z"
   },
   {
    "duration": 6438,
    "start_time": "2025-02-12T02:07:28.446Z"
   },
   {
    "duration": 7,
    "start_time": "2025-02-12T02:08:26.846Z"
   },
   {
    "duration": 278,
    "start_time": "2025-02-12T02:19:45.695Z"
   },
   {
    "duration": 488,
    "start_time": "2025-02-12T02:19:45.975Z"
   },
   {
    "duration": 216,
    "start_time": "2025-02-12T02:19:46.464Z"
   },
   {
    "duration": 21,
    "start_time": "2025-02-12T02:19:46.681Z"
   },
   {
    "duration": 34,
    "start_time": "2025-02-12T02:19:46.705Z"
   },
   {
    "duration": 42,
    "start_time": "2025-02-12T02:19:46.741Z"
   },
   {
    "duration": 18,
    "start_time": "2025-02-12T02:19:46.786Z"
   },
   {
    "duration": 47,
    "start_time": "2025-02-12T02:19:46.806Z"
   },
   {
    "duration": 19,
    "start_time": "2025-02-12T02:19:46.855Z"
   },
   {
    "duration": 56,
    "start_time": "2025-02-12T02:19:46.876Z"
   },
   {
    "duration": 8,
    "start_time": "2025-02-12T02:19:46.934Z"
   },
   {
    "duration": 3,
    "start_time": "2025-02-12T02:19:46.943Z"
   },
   {
    "duration": 84,
    "start_time": "2025-02-12T02:19:46.948Z"
   },
   {
    "duration": 6668,
    "start_time": "2025-02-12T02:19:47.035Z"
   },
   {
    "duration": 0,
    "start_time": "2025-02-12T02:19:53.705Z"
   },
   {
    "duration": 6,
    "start_time": "2025-02-12T02:20:33.490Z"
   },
   {
    "duration": 16,
    "start_time": "2025-02-12T02:22:14.103Z"
   },
   {
    "duration": 284,
    "start_time": "2025-02-12T02:22:23.109Z"
   },
   {
    "duration": 443,
    "start_time": "2025-02-12T02:22:23.395Z"
   },
   {
    "duration": 214,
    "start_time": "2025-02-12T02:22:23.840Z"
   },
   {
    "duration": 21,
    "start_time": "2025-02-12T02:22:24.056Z"
   },
   {
    "duration": 23,
    "start_time": "2025-02-12T02:22:24.079Z"
   },
   {
    "duration": 63,
    "start_time": "2025-02-12T02:22:24.104Z"
   },
   {
    "duration": 20,
    "start_time": "2025-02-12T02:22:24.169Z"
   },
   {
    "duration": 48,
    "start_time": "2025-02-12T02:22:24.191Z"
   },
   {
    "duration": 23,
    "start_time": "2025-02-12T02:22:24.241Z"
   },
   {
    "duration": 66,
    "start_time": "2025-02-12T02:22:24.266Z"
   },
   {
    "duration": 4,
    "start_time": "2025-02-12T02:22:24.334Z"
   },
   {
    "duration": 3,
    "start_time": "2025-02-12T02:22:24.339Z"
   },
   {
    "duration": 9,
    "start_time": "2025-02-12T02:22:24.344Z"
   },
   {
    "duration": 299,
    "start_time": "2025-02-12T02:22:24.356Z"
   },
   {
    "duration": 0,
    "start_time": "2025-02-12T02:22:24.657Z"
   },
   {
    "duration": 3,
    "start_time": "2025-02-12T02:22:55.099Z"
   },
   {
    "duration": 14,
    "start_time": "2025-02-12T02:23:38.314Z"
   },
   {
    "duration": 24,
    "start_time": "2025-02-12T02:30:40.966Z"
   },
   {
    "duration": 27,
    "start_time": "2025-02-12T02:30:45.463Z"
   },
   {
    "duration": 139,
    "start_time": "2025-02-12T02:31:25.363Z"
   },
   {
    "duration": 4,
    "start_time": "2025-02-12T02:31:44.818Z"
   },
   {
    "duration": 22,
    "start_time": "2025-02-12T02:31:52.050Z"
   },
   {
    "duration": 5,
    "start_time": "2025-02-12T02:32:17.082Z"
   },
   {
    "duration": 23,
    "start_time": "2025-02-12T02:32:19.705Z"
   },
   {
    "duration": 335,
    "start_time": "2025-02-12T02:45:37.749Z"
   },
   {
    "duration": 461,
    "start_time": "2025-02-12T02:45:38.086Z"
   },
   {
    "duration": 220,
    "start_time": "2025-02-12T02:45:38.549Z"
   },
   {
    "duration": 21,
    "start_time": "2025-02-12T02:45:38.770Z"
   },
   {
    "duration": 23,
    "start_time": "2025-02-12T02:45:38.793Z"
   },
   {
    "duration": 57,
    "start_time": "2025-02-12T02:45:38.818Z"
   },
   {
    "duration": 16,
    "start_time": "2025-02-12T02:45:38.877Z"
   },
   {
    "duration": 48,
    "start_time": "2025-02-12T02:45:38.895Z"
   },
   {
    "duration": 22,
    "start_time": "2025-02-12T02:45:38.945Z"
   },
   {
    "duration": 8,
    "start_time": "2025-02-12T02:45:38.968Z"
   },
   {
    "duration": 57,
    "start_time": "2025-02-12T02:45:38.978Z"
   },
   {
    "duration": 6,
    "start_time": "2025-02-12T02:50:02.495Z"
   },
   {
    "duration": 213,
    "start_time": "2025-02-12T02:50:31.172Z"
   },
   {
    "duration": 4,
    "start_time": "2025-02-12T02:53:41.278Z"
   },
   {
    "duration": 10,
    "start_time": "2025-02-12T02:53:57.088Z"
   },
   {
    "duration": 9,
    "start_time": "2025-02-12T02:54:24.024Z"
   },
   {
    "duration": 18,
    "start_time": "2025-02-12T02:59:39.695Z"
   },
   {
    "duration": 6466,
    "start_time": "2025-02-12T03:00:57.184Z"
   },
   {
    "duration": 267,
    "start_time": "2025-02-12T03:01:18.907Z"
   },
   {
    "duration": 477,
    "start_time": "2025-02-12T03:01:19.176Z"
   },
   {
    "duration": 237,
    "start_time": "2025-02-12T03:01:19.655Z"
   },
   {
    "duration": 20,
    "start_time": "2025-02-12T03:01:19.895Z"
   },
   {
    "duration": 34,
    "start_time": "2025-02-12T03:01:19.917Z"
   },
   {
    "duration": 42,
    "start_time": "2025-02-12T03:01:19.953Z"
   },
   {
    "duration": 18,
    "start_time": "2025-02-12T03:01:19.997Z"
   },
   {
    "duration": 31,
    "start_time": "2025-02-12T03:01:20.032Z"
   },
   {
    "duration": 24,
    "start_time": "2025-02-12T03:01:20.065Z"
   },
   {
    "duration": 9,
    "start_time": "2025-02-12T03:01:20.130Z"
   },
   {
    "duration": 4,
    "start_time": "2025-02-12T03:01:20.141Z"
   },
   {
    "duration": 4,
    "start_time": "2025-02-12T03:01:20.146Z"
   },
   {
    "duration": 86,
    "start_time": "2025-02-12T03:01:20.151Z"
   },
   {
    "duration": 240,
    "start_time": "2025-02-12T03:01:20.238Z"
   },
   {
    "duration": 6463,
    "start_time": "2025-02-12T03:01:43.877Z"
   },
   {
    "duration": 30,
    "start_time": "2025-02-12T03:02:29.717Z"
   },
   {
    "duration": 20,
    "start_time": "2025-02-12T03:03:04.359Z"
   },
   {
    "duration": 294,
    "start_time": "2025-02-12T03:03:14.927Z"
   },
   {
    "duration": 481,
    "start_time": "2025-02-12T03:03:15.223Z"
   },
   {
    "duration": 219,
    "start_time": "2025-02-12T03:03:15.706Z"
   },
   {
    "duration": 21,
    "start_time": "2025-02-12T03:03:15.927Z"
   },
   {
    "duration": 22,
    "start_time": "2025-02-12T03:03:15.950Z"
   },
   {
    "duration": 61,
    "start_time": "2025-02-12T03:03:15.973Z"
   },
   {
    "duration": 19,
    "start_time": "2025-02-12T03:03:16.036Z"
   },
   {
    "duration": 31,
    "start_time": "2025-02-12T03:03:16.057Z"
   },
   {
    "duration": 43,
    "start_time": "2025-02-12T03:03:16.090Z"
   },
   {
    "duration": 8,
    "start_time": "2025-02-12T03:03:16.135Z"
   },
   {
    "duration": 3,
    "start_time": "2025-02-12T03:03:16.145Z"
   },
   {
    "duration": 4,
    "start_time": "2025-02-12T03:03:16.150Z"
   },
   {
    "duration": 84,
    "start_time": "2025-02-12T03:03:16.156Z"
   },
   {
    "duration": 6486,
    "start_time": "2025-02-12T03:03:16.243Z"
   },
   {
    "duration": 225,
    "start_time": "2025-02-12T03:03:51.498Z"
   },
   {
    "duration": 324,
    "start_time": "2025-02-12T03:04:00.943Z"
   },
   {
    "duration": 476,
    "start_time": "2025-02-12T03:04:01.270Z"
   },
   {
    "duration": 231,
    "start_time": "2025-02-12T03:04:01.753Z"
   },
   {
    "duration": 20,
    "start_time": "2025-02-12T03:04:01.986Z"
   },
   {
    "duration": 36,
    "start_time": "2025-02-12T03:04:02.008Z"
   },
   {
    "duration": 43,
    "start_time": "2025-02-12T03:04:02.046Z"
   },
   {
    "duration": 19,
    "start_time": "2025-02-12T03:04:02.091Z"
   },
   {
    "duration": 48,
    "start_time": "2025-02-12T03:04:02.111Z"
   },
   {
    "duration": 22,
    "start_time": "2025-02-12T03:04:02.160Z"
   },
   {
    "duration": 48,
    "start_time": "2025-02-12T03:04:02.183Z"
   },
   {
    "duration": 5,
    "start_time": "2025-02-12T03:04:02.233Z"
   },
   {
    "duration": 4,
    "start_time": "2025-02-12T03:04:02.242Z"
   },
   {
    "duration": 85,
    "start_time": "2025-02-12T03:04:02.247Z"
   },
   {
    "duration": 6436,
    "start_time": "2025-02-12T03:04:02.334Z"
   },
   {
    "duration": 6,
    "start_time": "2025-02-12T03:12:14.208Z"
   },
   {
    "duration": 226,
    "start_time": "2025-02-12T03:12:34.737Z"
   },
   {
    "duration": 308,
    "start_time": "2025-02-12T03:12:39.271Z"
   },
   {
    "duration": 485,
    "start_time": "2025-02-12T03:12:39.581Z"
   },
   {
    "duration": 227,
    "start_time": "2025-02-12T03:12:40.068Z"
   },
   {
    "duration": 20,
    "start_time": "2025-02-12T03:12:40.297Z"
   },
   {
    "duration": 31,
    "start_time": "2025-02-12T03:12:40.319Z"
   },
   {
    "duration": 44,
    "start_time": "2025-02-12T03:12:40.352Z"
   },
   {
    "duration": 39,
    "start_time": "2025-02-12T03:12:40.398Z"
   },
   {
    "duration": 31,
    "start_time": "2025-02-12T03:12:40.439Z"
   },
   {
    "duration": 22,
    "start_time": "2025-02-12T03:12:40.472Z"
   },
   {
    "duration": 9,
    "start_time": "2025-02-12T03:12:40.530Z"
   },
   {
    "duration": 4,
    "start_time": "2025-02-12T03:12:40.541Z"
   },
   {
    "duration": 4,
    "start_time": "2025-02-12T03:12:40.547Z"
   },
   {
    "duration": 86,
    "start_time": "2025-02-12T03:12:40.553Z"
   },
   {
    "duration": 6459,
    "start_time": "2025-02-12T03:12:40.640Z"
   },
   {
    "duration": 733,
    "start_time": "2025-02-19T01:54:36.388Z"
   },
   {
    "duration": 306,
    "start_time": "2025-02-19T01:54:37.123Z"
   },
   {
    "duration": 20,
    "start_time": "2025-02-19T01:54:37.431Z"
   },
   {
    "duration": 27,
    "start_time": "2025-02-19T01:54:37.452Z"
   },
   {
    "duration": 60,
    "start_time": "2025-02-19T01:54:37.482Z"
   },
   {
    "duration": 20,
    "start_time": "2025-02-19T01:54:37.544Z"
   },
   {
    "duration": 41,
    "start_time": "2025-02-19T01:54:37.566Z"
   },
   {
    "duration": 20,
    "start_time": "2025-02-19T01:54:37.609Z"
   },
   {
    "duration": 7,
    "start_time": "2025-02-19T01:54:37.631Z"
   },
   {
    "duration": 65,
    "start_time": "2025-02-19T01:54:37.640Z"
   },
   {
    "duration": 4,
    "start_time": "2025-02-19T01:54:37.708Z"
   },
   {
    "duration": 11,
    "start_time": "2025-02-19T01:54:37.714Z"
   },
   {
    "duration": 6522,
    "start_time": "2025-02-19T01:54:37.727Z"
   },
   {
    "duration": 787,
    "start_time": "2025-02-19T01:57:04.022Z"
   },
   {
    "duration": 221,
    "start_time": "2025-02-19T01:57:04.812Z"
   },
   {
    "duration": 25,
    "start_time": "2025-02-19T01:57:05.039Z"
   },
   {
    "duration": 43,
    "start_time": "2025-02-19T01:57:05.066Z"
   },
   {
    "duration": 32,
    "start_time": "2025-02-19T01:57:05.111Z"
   },
   {
    "duration": 30,
    "start_time": "2025-02-19T01:57:05.145Z"
   },
   {
    "duration": 18,
    "start_time": "2025-02-19T01:57:05.207Z"
   },
   {
    "duration": 75,
    "start_time": "2025-02-19T01:57:05.229Z"
   },
   {
    "duration": 4,
    "start_time": "2025-02-19T01:57:05.307Z"
   },
   {
    "duration": 11,
    "start_time": "2025-02-19T01:57:05.313Z"
   },
   {
    "duration": 6509,
    "start_time": "2025-02-19T01:57:05.327Z"
   },
   {
    "duration": 4,
    "start_time": "2025-02-19T02:04:33.998Z"
   },
   {
    "duration": 263,
    "start_time": "2025-02-19T02:06:01.193Z"
   },
   {
    "duration": 16,
    "start_time": "2025-02-19T02:06:13.488Z"
   },
   {
    "duration": 2568,
    "start_time": "2025-02-19T02:06:28.058Z"
   },
   {
    "duration": 216,
    "start_time": "2025-02-19T02:06:30.629Z"
   },
   {
    "duration": 19,
    "start_time": "2025-02-19T02:06:30.847Z"
   },
   {
    "duration": 21,
    "start_time": "2025-02-19T02:06:30.867Z"
   },
   {
    "duration": 4,
    "start_time": "2025-02-19T02:06:30.904Z"
   },
   {
    "duration": 101,
    "start_time": "2025-02-19T02:06:30.909Z"
   },
   {
    "duration": 31,
    "start_time": "2025-02-19T02:06:31.012Z"
   },
   {
    "duration": 23,
    "start_time": "2025-02-19T02:06:31.045Z"
   },
   {
    "duration": 35,
    "start_time": "2025-02-19T02:06:31.070Z"
   },
   {
    "duration": 9,
    "start_time": "2025-02-19T02:06:31.107Z"
   },
   {
    "duration": 7,
    "start_time": "2025-02-19T02:06:31.117Z"
   },
   {
    "duration": 83,
    "start_time": "2025-02-19T02:06:31.125Z"
   },
   {
    "duration": 6472,
    "start_time": "2025-02-19T02:06:31.209Z"
   },
   {
    "duration": 7,
    "start_time": "2025-02-19T02:13:50.824Z"
   },
   {
    "duration": 4,
    "start_time": "2025-02-19T02:14:01.562Z"
   },
   {
    "duration": 863,
    "start_time": "2025-02-19T02:14:06.411Z"
   },
   {
    "duration": 226,
    "start_time": "2025-02-19T02:14:07.276Z"
   },
   {
    "duration": 21,
    "start_time": "2025-02-19T02:14:07.503Z"
   },
   {
    "duration": 24,
    "start_time": "2025-02-19T02:14:07.525Z"
   },
   {
    "duration": 3,
    "start_time": "2025-02-19T02:14:07.552Z"
   },
   {
    "duration": 117,
    "start_time": "2025-02-19T02:14:07.557Z"
   },
   {
    "duration": 81,
    "start_time": "2025-02-19T02:14:07.676Z"
   },
   {
    "duration": 47,
    "start_time": "2025-02-19T02:14:07.759Z"
   },
   {
    "duration": 307,
    "start_time": "2025-02-19T02:14:07.807Z"
   },
   {
    "duration": 0,
    "start_time": "2025-02-19T02:14:08.116Z"
   },
   {
    "duration": 0,
    "start_time": "2025-02-19T02:14:08.116Z"
   },
   {
    "duration": 0,
    "start_time": "2025-02-19T02:14:08.117Z"
   },
   {
    "duration": 0,
    "start_time": "2025-02-19T02:14:08.119Z"
   },
   {
    "duration": 7,
    "start_time": "2025-02-19T02:14:33.804Z"
   },
   {
    "duration": 880,
    "start_time": "2025-02-19T02:14:44.450Z"
   },
   {
    "duration": 242,
    "start_time": "2025-02-19T02:14:45.332Z"
   },
   {
    "duration": 20,
    "start_time": "2025-02-19T02:14:45.575Z"
   },
   {
    "duration": 28,
    "start_time": "2025-02-19T02:14:45.597Z"
   },
   {
    "duration": 4,
    "start_time": "2025-02-19T02:14:45.627Z"
   },
   {
    "duration": 112,
    "start_time": "2025-02-19T02:14:45.633Z"
   },
   {
    "duration": 76,
    "start_time": "2025-02-19T02:14:45.747Z"
   },
   {
    "duration": 23,
    "start_time": "2025-02-19T02:14:45.826Z"
   },
   {
    "duration": 54,
    "start_time": "2025-02-19T02:14:45.850Z"
   },
   {
    "duration": 5,
    "start_time": "2025-02-19T02:14:45.910Z"
   },
   {
    "duration": 11,
    "start_time": "2025-02-19T02:14:45.918Z"
   },
   {
    "duration": 80,
    "start_time": "2025-02-19T02:14:45.931Z"
   },
   {
    "duration": 6470,
    "start_time": "2025-02-19T02:14:46.012Z"
   },
   {
    "duration": 223,
    "start_time": "2025-02-19T02:18:27.768Z"
   },
   {
    "duration": 17,
    "start_time": "2025-02-19T02:18:48.103Z"
   },
   {
    "duration": 16,
    "start_time": "2025-02-19T02:18:53.386Z"
   },
   {
    "duration": 4,
    "start_time": "2025-02-19T02:18:59.247Z"
   },
   {
    "duration": 893,
    "start_time": "2025-02-19T02:23:49.900Z"
   },
   {
    "duration": 214,
    "start_time": "2025-02-19T02:23:50.795Z"
   },
   {
    "duration": 21,
    "start_time": "2025-02-19T02:23:51.011Z"
   },
   {
    "duration": 25,
    "start_time": "2025-02-19T02:23:51.033Z"
   },
   {
    "duration": 3,
    "start_time": "2025-02-19T02:23:51.061Z"
   },
   {
    "duration": 114,
    "start_time": "2025-02-19T02:23:51.066Z"
   },
   {
    "duration": 86,
    "start_time": "2025-02-19T02:23:51.182Z"
   },
   {
    "duration": 37,
    "start_time": "2025-02-19T02:23:51.270Z"
   },
   {
    "duration": 8,
    "start_time": "2025-02-19T02:23:51.311Z"
   },
   {
    "duration": 3,
    "start_time": "2025-02-19T02:23:51.321Z"
   },
   {
    "duration": 324,
    "start_time": "2025-02-19T02:23:51.325Z"
   },
   {
    "duration": 0,
    "start_time": "2025-02-19T02:23:51.650Z"
   },
   {
    "duration": 0,
    "start_time": "2025-02-19T02:23:51.652Z"
   },
   {
    "duration": 0,
    "start_time": "2025-02-19T02:23:51.653Z"
   },
   {
    "duration": 9,
    "start_time": "2025-02-19T02:24:15.421Z"
   },
   {
    "duration": 3,
    "start_time": "2025-02-19T02:25:05.153Z"
   },
   {
    "duration": 10,
    "start_time": "2025-02-19T02:25:07.333Z"
   },
   {
    "duration": 6489,
    "start_time": "2025-02-19T02:25:11.721Z"
   },
   {
    "duration": 28,
    "start_time": "2025-02-19T02:31:56.146Z"
   },
   {
    "duration": 891,
    "start_time": "2025-02-19T02:32:03.016Z"
   },
   {
    "duration": 226,
    "start_time": "2025-02-19T02:32:03.910Z"
   },
   {
    "duration": 22,
    "start_time": "2025-02-19T02:32:04.140Z"
   },
   {
    "duration": 21,
    "start_time": "2025-02-19T02:32:04.165Z"
   },
   {
    "duration": 3,
    "start_time": "2025-02-19T02:32:04.189Z"
   },
   {
    "duration": 104,
    "start_time": "2025-02-19T02:32:04.206Z"
   },
   {
    "duration": 105,
    "start_time": "2025-02-19T02:32:04.312Z"
   },
   {
    "duration": 26,
    "start_time": "2025-02-19T02:32:04.419Z"
   },
   {
    "duration": 7,
    "start_time": "2025-02-19T02:32:04.447Z"
   },
   {
    "duration": 4,
    "start_time": "2025-02-19T02:32:04.506Z"
   },
   {
    "duration": 10,
    "start_time": "2025-02-19T02:32:04.512Z"
   },
   {
    "duration": 3,
    "start_time": "2025-02-19T02:32:04.524Z"
   },
   {
    "duration": 80,
    "start_time": "2025-02-19T02:32:04.528Z"
   },
   {
    "duration": 6463,
    "start_time": "2025-02-19T02:32:04.610Z"
   },
   {
    "duration": 877,
    "start_time": "2025-02-19T02:38:15.362Z"
   },
   {
    "duration": 213,
    "start_time": "2025-02-19T02:38:16.241Z"
   },
   {
    "duration": 18,
    "start_time": "2025-02-19T02:38:16.456Z"
   },
   {
    "duration": 34,
    "start_time": "2025-02-19T02:38:16.476Z"
   },
   {
    "duration": 4,
    "start_time": "2025-02-19T02:38:16.512Z"
   },
   {
    "duration": 108,
    "start_time": "2025-02-19T02:38:16.517Z"
   },
   {
    "duration": 83,
    "start_time": "2025-02-19T02:38:16.626Z"
   },
   {
    "duration": 26,
    "start_time": "2025-02-19T02:38:16.711Z"
   },
   {
    "duration": 7,
    "start_time": "2025-02-19T02:38:16.739Z"
   },
   {
    "duration": 4,
    "start_time": "2025-02-19T02:38:16.804Z"
   },
   {
    "duration": 10,
    "start_time": "2025-02-19T02:38:16.810Z"
   },
   {
    "duration": 5,
    "start_time": "2025-02-19T02:38:16.823Z"
   },
   {
    "duration": 10,
    "start_time": "2025-02-19T02:38:16.905Z"
   },
   {
    "duration": 6460,
    "start_time": "2025-02-19T02:38:16.918Z"
   },
   {
    "duration": 325,
    "start_time": "2025-02-19T02:45:36.385Z"
   },
   {
    "duration": 300,
    "start_time": "2025-02-19T02:45:54.284Z"
   },
   {
    "duration": 10,
    "start_time": "2025-02-19T02:58:27.111Z"
   },
   {
    "duration": 229,
    "start_time": "2025-02-19T02:58:56.557Z"
   },
   {
    "duration": 67,
    "start_time": "2025-02-19T02:59:15.865Z"
   },
   {
    "duration": 301,
    "start_time": "2025-02-19T02:59:22.713Z"
   },
   {
    "duration": 20,
    "start_time": "2025-02-19T03:00:43.979Z"
   },
   {
    "duration": 21,
    "start_time": "2025-02-19T03:01:35.542Z"
   },
   {
    "duration": 991,
    "start_time": "2025-02-19T03:09:00.705Z"
   },
   {
    "duration": 234,
    "start_time": "2025-02-19T03:09:01.699Z"
   },
   {
    "duration": 25,
    "start_time": "2025-02-19T03:09:01.937Z"
   },
   {
    "duration": 24,
    "start_time": "2025-02-19T03:09:01.964Z"
   },
   {
    "duration": 16,
    "start_time": "2025-02-19T03:09:01.990Z"
   },
   {
    "duration": 104,
    "start_time": "2025-02-19T03:09:02.008Z"
   },
   {
    "duration": 293,
    "start_time": "2025-02-19T03:09:02.114Z"
   },
   {
    "duration": 26,
    "start_time": "2025-02-19T03:09:02.409Z"
   },
   {
    "duration": 34,
    "start_time": "2025-02-19T03:09:02.437Z"
   },
   {
    "duration": 47,
    "start_time": "2025-02-19T03:09:02.474Z"
   },
   {
    "duration": 8,
    "start_time": "2025-02-19T03:09:02.523Z"
   },
   {
    "duration": 4,
    "start_time": "2025-02-19T03:09:02.533Z"
   },
   {
    "duration": 74,
    "start_time": "2025-02-19T03:09:02.538Z"
   },
   {
    "duration": 5,
    "start_time": "2025-02-19T03:09:02.616Z"
   },
   {
    "duration": 10,
    "start_time": "2025-02-19T03:09:02.624Z"
   },
   {
    "duration": 6529,
    "start_time": "2025-02-19T03:09:02.636Z"
   },
   {
    "duration": 2719,
    "start_time": "2025-02-20T02:46:39.105Z"
   },
   {
    "duration": 291,
    "start_time": "2025-02-20T02:46:41.827Z"
   },
   {
    "duration": 25,
    "start_time": "2025-02-20T02:46:42.120Z"
   },
   {
    "duration": 42,
    "start_time": "2025-02-20T02:46:42.148Z"
   },
   {
    "duration": 4,
    "start_time": "2025-02-20T02:46:42.193Z"
   },
   {
    "duration": 114,
    "start_time": "2025-02-20T02:46:42.199Z"
   },
   {
    "duration": 288,
    "start_time": "2025-02-20T02:46:42.315Z"
   },
   {
    "duration": 22,
    "start_time": "2025-02-20T02:46:42.605Z"
   },
   {
    "duration": 30,
    "start_time": "2025-02-20T02:46:42.630Z"
   },
   {
    "duration": 42,
    "start_time": "2025-02-20T02:46:42.662Z"
   },
   {
    "duration": 8,
    "start_time": "2025-02-20T02:46:42.706Z"
   },
   {
    "duration": 4,
    "start_time": "2025-02-20T02:46:42.716Z"
   },
   {
    "duration": 71,
    "start_time": "2025-02-20T02:46:42.722Z"
   },
   {
    "duration": 3,
    "start_time": "2025-02-20T02:46:42.797Z"
   },
   {
    "duration": 11,
    "start_time": "2025-02-20T02:46:42.802Z"
   },
   {
    "duration": 209,
    "start_time": "2025-02-20T02:46:42.814Z"
   },
   {
    "duration": 291,
    "start_time": "2025-02-20T02:48:10.497Z"
   },
   {
    "duration": 25,
    "start_time": "2025-02-20T02:48:24.339Z"
   },
   {
    "duration": 1041,
    "start_time": "2025-02-20T02:49:04.813Z"
   },
   {
    "duration": 219,
    "start_time": "2025-02-20T02:49:05.856Z"
   },
   {
    "duration": 24,
    "start_time": "2025-02-20T02:49:06.077Z"
   },
   {
    "duration": 21,
    "start_time": "2025-02-20T02:49:06.104Z"
   },
   {
    "duration": 4,
    "start_time": "2025-02-20T02:49:06.127Z"
   },
   {
    "duration": 116,
    "start_time": "2025-02-20T02:49:06.132Z"
   },
   {
    "duration": 303,
    "start_time": "2025-02-20T02:49:06.249Z"
   },
   {
    "duration": 20,
    "start_time": "2025-02-20T02:49:06.553Z"
   },
   {
    "duration": 40,
    "start_time": "2025-02-20T02:49:06.575Z"
   },
   {
    "duration": 21,
    "start_time": "2025-02-20T02:49:06.619Z"
   },
   {
    "duration": 49,
    "start_time": "2025-02-20T02:49:06.642Z"
   },
   {
    "duration": 4,
    "start_time": "2025-02-20T02:49:06.692Z"
   },
   {
    "duration": 308,
    "start_time": "2025-02-20T02:49:06.697Z"
   },
   {
    "duration": 0,
    "start_time": "2025-02-20T02:49:07.007Z"
   },
   {
    "duration": 0,
    "start_time": "2025-02-20T02:49:07.008Z"
   },
   {
    "duration": 0,
    "start_time": "2025-02-20T02:49:07.009Z"
   },
   {
    "duration": 31,
    "start_time": "2025-02-20T02:49:18.225Z"
   },
   {
    "duration": 5,
    "start_time": "2025-02-20T02:49:25.343Z"
   },
   {
    "duration": 4,
    "start_time": "2025-02-20T02:50:42.911Z"
   },
   {
    "duration": 970,
    "start_time": "2025-02-20T02:52:41.875Z"
   },
   {
    "duration": 229,
    "start_time": "2025-02-20T02:52:42.848Z"
   },
   {
    "duration": 24,
    "start_time": "2025-02-20T02:52:43.079Z"
   },
   {
    "duration": 29,
    "start_time": "2025-02-20T02:52:43.106Z"
   },
   {
    "duration": 4,
    "start_time": "2025-02-20T02:52:43.139Z"
   },
   {
    "duration": 130,
    "start_time": "2025-02-20T02:52:43.145Z"
   },
   {
    "duration": 302,
    "start_time": "2025-02-20T02:52:43.277Z"
   },
   {
    "duration": 26,
    "start_time": "2025-02-20T02:52:43.581Z"
   },
   {
    "duration": 28,
    "start_time": "2025-02-20T02:52:43.609Z"
   },
   {
    "duration": 53,
    "start_time": "2025-02-20T02:52:43.638Z"
   },
   {
    "duration": 13,
    "start_time": "2025-02-20T02:52:43.692Z"
   },
   {
    "duration": 3,
    "start_time": "2025-02-20T02:52:43.709Z"
   },
   {
    "duration": 75,
    "start_time": "2025-02-20T02:52:43.714Z"
   },
   {
    "duration": 3,
    "start_time": "2025-02-20T02:52:43.793Z"
   },
   {
    "duration": 12,
    "start_time": "2025-02-20T02:52:43.798Z"
   },
   {
    "duration": 178,
    "start_time": "2025-02-20T02:52:43.812Z"
   },
   {
    "duration": 975,
    "start_time": "2025-02-20T03:02:26.077Z"
   },
   {
    "duration": 221,
    "start_time": "2025-02-20T03:02:27.054Z"
   },
   {
    "duration": 28,
    "start_time": "2025-02-20T03:02:27.277Z"
   },
   {
    "duration": 31,
    "start_time": "2025-02-20T03:02:27.307Z"
   },
   {
    "duration": 4,
    "start_time": "2025-02-20T03:02:27.341Z"
   },
   {
    "duration": 117,
    "start_time": "2025-02-20T03:02:27.346Z"
   },
   {
    "duration": 299,
    "start_time": "2025-02-20T03:02:27.465Z"
   },
   {
    "duration": 29,
    "start_time": "2025-02-20T03:02:27.766Z"
   },
   {
    "duration": 29,
    "start_time": "2025-02-20T03:02:27.797Z"
   },
   {
    "duration": 19,
    "start_time": "2025-02-20T03:02:27.828Z"
   },
   {
    "duration": 43,
    "start_time": "2025-02-20T03:02:27.849Z"
   },
   {
    "duration": 4,
    "start_time": "2025-02-20T03:02:27.894Z"
   },
   {
    "duration": 4,
    "start_time": "2025-02-20T03:02:27.900Z"
   },
   {
    "duration": 80,
    "start_time": "2025-02-20T03:02:27.908Z"
   },
   {
    "duration": 9,
    "start_time": "2025-02-20T03:02:27.990Z"
   },
   {
    "duration": 165,
    "start_time": "2025-02-20T03:02:28.001Z"
   }
  ],
  "kernelspec": {
   "display_name": "base",
   "language": "python",
   "name": "python3"
  },
  "language_info": {
   "codemirror_mode": {
    "name": "ipython",
    "version": 3
   },
   "file_extension": ".py",
   "mimetype": "text/x-python",
   "name": "python",
   "nbconvert_exporter": "python",
   "pygments_lexer": "ipython3",
   "version": "3.11.7"
  },
  "toc": {
   "base_numbering": 1,
   "nav_menu": {},
   "number_sections": true,
   "sideBar": true,
   "skip_h1_title": true,
   "title_cell": "Table of Contents",
   "title_sidebar": "Contents",
   "toc_cell": false,
   "toc_position": {},
   "toc_section_display": true,
   "toc_window_display": false
  }
 },
 "nbformat": 4,
 "nbformat_minor": 2
}
